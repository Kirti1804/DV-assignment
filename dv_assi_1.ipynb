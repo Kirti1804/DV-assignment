{
  "nbformat": 4,
  "nbformat_minor": 0,
  "metadata": {
    "colab": {
      "provenance": []
    },
    "kernelspec": {
      "name": "python3",
      "display_name": "Python 3"
    },
    "language_info": {
      "name": "python"
    }
  },
  "cells": [
    {
      "cell_type": "code",
      "execution_count": null,
      "metadata": {
        "colab": {
          "base_uri": "https://localhost:8080/"
        },
        "id": "yNdoX0rm_aMH",
        "outputId": "bffa2764-7a37-45bd-be1a-05b325ef7ae2"
      },
      "outputs": [
        {
          "output_type": "stream",
          "name": "stdout",
          "text": [
            "Student DataFrame:\n",
            "  Std_id      name  Sem  age  CGPA Dept_id\n",
            "0   St11      Rama    1   19   7.5      D1\n",
            "1   St12   Krishna    1   20   8.9      D1\n",
            "2   St13  Balarama    2   21   9.9      D2\n",
            "3   St14    Hanuma    2   18   9.5      D2\n",
            "4   St15      Jaya    3   20   8.3      D3\n",
            "5   St16      Sita    3   22   8.5      D4\n",
            "6   St17     Radha    3   19   8.3      D4\n",
            "7   St18   Rukmini    2   17   8.1      D4\n",
            "8   St19   Lakshmi    1   19   9.2      D1\n",
            "9   St20  Bharatha    1   22   9.5      D2\n",
            "\n",
            "Department DataFrame:\n",
            "  Dept_id      Dname       Dloc   D_Hod\n",
            "0      D1        CSE  Bangalore   Indra\n",
            "1      D2       Mech        Goa  Chadra\n",
            "2      D4  AI and ML      Delhi   Surya\n",
            "3      D5        ECE  Bangalore  Mourya\n",
            "4      D6      Civil    Mathura  Harsha\n"
          ]
        }
      ],
      "source": [
        "import pandas as pd\n",
        "\n",
        "# Creating the Student DataFrame\n",
        "student_data = {\n",
        "    \"Std_id\": [\"St11\", \"St12\", \"St13\", \"St14\", \"St15\", \"St16\", \"St17\", \"St18\", \"St19\", \"St20\"],\n",
        "    \"name\": [\"Rama\", \"Krishna\", \"Balarama\", \"Hanuma\", \"Jaya\", \"Sita\", \"Radha\", \"Rukmini\", \"Lakshmi\", \"Bharatha\"],\n",
        "    \"Sem\": [1, 1, 2, 2, 3, 3, 3, 2, 1, 1],\n",
        "    \"age\": [19, 20, 21, 18, 20, 22, 19, 17, 19, 22],\n",
        "    \"CGPA\": [7.5, 8.9, 9.9, 9.5, 8.3, 8.5, 8.3, 8.1, 9.2, 9.5],\n",
        "    \"Dept_id\": [\"D1\", \"D1\", \"D2\", \"D2\", \"D3\", \"D4\", \"D4\", \"D4\", \"D1\", \"D2\"]\n",
        "}\n",
        "\n",
        "student_df = pd.DataFrame(student_data)\n",
        "\n",
        "# Creating the Department DataFrame\n",
        "dept_data = {\n",
        "    \"Dept_id\": [\"D1\", \"D2\", \"D4\", \"D5\", \"D6\"],\n",
        "    \"Dname\": [\"CSE\", \"Mech\", \"AI and ML\", \"ECE\", \"Civil\"],\n",
        "    \"Dloc\": [\"Bangalore\", \"Goa\", \"Delhi\", \"Bangalore\", \"Mathura\"],\n",
        "    \"D_Hod\": [\"Indra\", \"Chadra\", \"Surya\", \"Mourya\", \"Harsha\"]\n",
        "}\n",
        "\n",
        "dept_df = pd.DataFrame(dept_data)\n",
        "\n",
        "# Displaying the DataFrames\n",
        "print(\"Student DataFrame:\")\n",
        "print(student_df)\n",
        "\n",
        "print(\"\\nDepartment DataFrame:\")\n",
        "print(dept_df)\n"
      ]
    },
    {
      "cell_type": "code",
      "source": [
        "\n",
        "# 2.\n",
        "# Performing inner join\n",
        "inner_join_result = pd.merge(student_df, dept_df, on=\"Dept_id\", how=\"inner\")\n",
        "\n",
        "# Performing outer join\n",
        "outer_join_result = pd.merge(student_df, dept_df, on=\"Dept_id\", how=\"outer\")\n",
        "\n",
        "# Displaying the results\n",
        "print(\"Inner Join Result:\")\n",
        "print(inner_join_result)\n",
        "\n",
        "print(\"\\nOuter Join Result:\")\n",
        "print(outer_join_result)\n"
      ],
      "metadata": {
        "colab": {
          "base_uri": "https://localhost:8080/"
        },
        "id": "Gbhv5wCOAWAv",
        "outputId": "1e9f6004-0b34-4171-f4a4-5805c593e010"
      },
      "execution_count": null,
      "outputs": [
        {
          "output_type": "stream",
          "name": "stdout",
          "text": [
            "Inner Join Result:\n",
            "  Std_id      name  Sem  age  CGPA Dept_id      Dname       Dloc   D_Hod\n",
            "0   St11      Rama    1   19   7.5      D1        CSE  Bangalore   Indra\n",
            "1   St12   Krishna    1   20   8.9      D1        CSE  Bangalore   Indra\n",
            "2   St19   Lakshmi    1   19   9.2      D1        CSE  Bangalore   Indra\n",
            "3   St13  Balarama    2   21   9.9      D2       Mech        Goa  Chadra\n",
            "4   St14    Hanuma    2   18   9.5      D2       Mech        Goa  Chadra\n",
            "5   St20  Bharatha    1   22   9.5      D2       Mech        Goa  Chadra\n",
            "6   St16      Sita    3   22   8.5      D4  AI and ML      Delhi   Surya\n",
            "7   St17     Radha    3   19   8.3      D4  AI and ML      Delhi   Surya\n",
            "8   St18   Rukmini    2   17   8.1      D4  AI and ML      Delhi   Surya\n",
            "\n",
            "Outer Join Result:\n",
            "   Std_id      name  Sem   age  CGPA Dept_id      Dname       Dloc   D_Hod\n",
            "0    St11      Rama  1.0  19.0   7.5      D1        CSE  Bangalore   Indra\n",
            "1    St12   Krishna  1.0  20.0   8.9      D1        CSE  Bangalore   Indra\n",
            "2    St19   Lakshmi  1.0  19.0   9.2      D1        CSE  Bangalore   Indra\n",
            "3    St13  Balarama  2.0  21.0   9.9      D2       Mech        Goa  Chadra\n",
            "4    St14    Hanuma  2.0  18.0   9.5      D2       Mech        Goa  Chadra\n",
            "5    St20  Bharatha  1.0  22.0   9.5      D2       Mech        Goa  Chadra\n",
            "6    St15      Jaya  3.0  20.0   8.3      D3        NaN        NaN     NaN\n",
            "7    St16      Sita  3.0  22.0   8.5      D4  AI and ML      Delhi   Surya\n",
            "8    St17     Radha  3.0  19.0   8.3      D4  AI and ML      Delhi   Surya\n",
            "9    St18   Rukmini  2.0  17.0   8.1      D4  AI and ML      Delhi   Surya\n",
            "10    NaN       NaN  NaN   NaN   NaN      D5        ECE  Bangalore  Mourya\n",
            "11    NaN       NaN  NaN   NaN   NaN      D6      Civil    Mathura  Harsha\n"
          ]
        }
      ]
    },
    {
      "cell_type": "code",
      "source": [
        "# 3. Merging based on Dept_id\n",
        "merged_data = pd.merge(student_df, dept_df, on=\"Dept_id\")\n",
        "\n",
        "# Displaying the merged result\n",
        "print(\"Merged Result:\")\n",
        "print(merged_data)"
      ],
      "metadata": {
        "colab": {
          "base_uri": "https://localhost:8080/"
        },
        "id": "XpdZviumAos5",
        "outputId": "54a23972-1aef-4aff-b6d1-a6fbbe4d33b8"
      },
      "execution_count": null,
      "outputs": [
        {
          "output_type": "stream",
          "name": "stdout",
          "text": [
            "Merged Result:\n",
            "  Std_id      name  Sem  age  CGPA Dept_id      Dname       Dloc   D_Hod\n",
            "0   St11      Rama    1   19   7.5      D1        CSE  Bangalore   Indra\n",
            "1   St12   Krishna    1   20   8.9      D1        CSE  Bangalore   Indra\n",
            "2   St19   Lakshmi    1   19   9.2      D1        CSE  Bangalore   Indra\n",
            "3   St13  Balarama    2   21   9.9      D2       Mech        Goa  Chadra\n",
            "4   St14    Hanuma    2   18   9.5      D2       Mech        Goa  Chadra\n",
            "5   St20  Bharatha    1   22   9.5      D2       Mech        Goa  Chadra\n",
            "6   St16      Sita    3   22   8.5      D4  AI and ML      Delhi   Surya\n",
            "7   St17     Radha    3   19   8.3      D4  AI and ML      Delhi   Surya\n",
            "8   St18   Rukmini    2   17   8.1      D4  AI and ML      Delhi   Surya\n"
          ]
        }
      ]
    },
    {
      "cell_type": "code",
      "source": [
        "#  4. Merging based on Dept_id\n",
        "merged_data = pd.merge(student_df, dept_df, on=\"Dept_id\")\n",
        "\n",
        "# Extracting CSE department student details\n",
        "cse_students = merged_data[merged_data[\"Dname\"] == \"CSE\"]\n",
        "\n",
        "# Displaying CSE department student details\n",
        "print(\"CSE Department Student Details:\")\n",
        "print(cse_students)"
      ],
      "metadata": {
        "colab": {
          "base_uri": "https://localhost:8080/"
        },
        "id": "FebZxnGPA_rR",
        "outputId": "e8ec612a-c67d-4d27-90aa-3417e6fd374b"
      },
      "execution_count": null,
      "outputs": [
        {
          "output_type": "stream",
          "name": "stdout",
          "text": [
            "CSE Department Student Details:\n",
            "  Std_id     name  Sem  age  CGPA Dept_id Dname       Dloc  D_Hod\n",
            "0   St11     Rama    1   19   7.5      D1   CSE  Bangalore  Indra\n",
            "1   St12  Krishna    1   20   8.9      D1   CSE  Bangalore  Indra\n",
            "2   St19  Lakshmi    1   19   9.2      D1   CSE  Bangalore  Indra\n"
          ]
        }
      ]
    },
    {
      "cell_type": "code",
      "source": [],
      "metadata": {
        "id": "rlKULEs-DKMT"
      },
      "execution_count": null,
      "outputs": []
    },
    {
      "cell_type": "code",
      "source": [
        "# 6. Extract only student details whose CGPA is greater than 9.0\n",
        "high_cgpa_students = student_df[student_df[\"CGPA\"] > 9.0]\n",
        "\n",
        "print(\"High CGPA Students:\")\n",
        "print(high_cgpa_students)"
      ],
      "metadata": {
        "colab": {
          "base_uri": "https://localhost:8080/"
        },
        "id": "lF-JaBocBw8E",
        "outputId": "1089aa51-9fed-45ef-ee69-0e925c513f4f"
      },
      "execution_count": null,
      "outputs": [
        {
          "output_type": "stream",
          "name": "stdout",
          "text": [
            "High CGPA Students:\n",
            "  Std_id      name  Sem  age  CGPA Dept_id\n",
            "2   St13  Balarama    2   21   9.9      D2\n",
            "3   St14    Hanuma    2   18   9.5      D2\n",
            "8   St19   Lakshmi    1   19   9.2      D1\n",
            "9   St20  Bharatha    1   22   9.5      D2\n"
          ]
        }
      ]
    },
    {
      "cell_type": "code",
      "source": [
        "# 7. Rename the column Dname to dept_name\n",
        "dept_df.rename(columns={\"Dname\": \"dept_name\"}, inplace=True)\n",
        "\n",
        "print(\"\\nRenamed Department DataFrame:\")\n",
        "print(dept_df)\n"
      ],
      "metadata": {
        "colab": {
          "base_uri": "https://localhost:8080/"
        },
        "id": "H8IWr4V1BxIQ",
        "outputId": "1f3d45cf-69ef-4c04-eb65-71fcac4c8283"
      },
      "execution_count": null,
      "outputs": [
        {
          "output_type": "stream",
          "name": "stdout",
          "text": [
            "\n",
            "Renamed Department DataFrame:\n",
            "  Dept_id  dept_name       Dloc   D_Hod\n",
            "0      D1        CSE  Bangalore   Indra\n",
            "1      D2       Mech        Goa  Chadra\n",
            "2      D4  AI and ML      Delhi   Surya\n",
            "3      D5        ECE  Bangalore  Mourya\n",
            "4      D6      Civil    Mathura  Harsha\n"
          ]
        }
      ]
    },
    {
      "cell_type": "code",
      "source": [
        "# 8. Find the highest and lowest CGPA in department wise\n",
        "highest_cgpa_per_dept = student_df.groupby(\"Dept_id\")[\"CGPA\"].max()\n",
        "lowest_cgpa_per_dept = student_df.groupby(\"Dept_id\")[\"CGPA\"].min()\n",
        "\n",
        "print(\"\\nHighest CGPA per Department:\")\n",
        "print(highest_cgpa_per_dept)\n",
        "\n",
        "print(\"\\nLowest CGPA per Department:\")\n",
        "print(lowest_cgpa_per_dept)"
      ],
      "metadata": {
        "colab": {
          "base_uri": "https://localhost:8080/"
        },
        "id": "H1zXT5SbBxLA",
        "outputId": "d2856a9d-2c59-4c49-c3be-6aab5d03f2d8"
      },
      "execution_count": null,
      "outputs": [
        {
          "output_type": "stream",
          "name": "stdout",
          "text": [
            "\n",
            "Highest CGPA per Department:\n",
            "Dept_id\n",
            "D1    9.2\n",
            "D2    9.9\n",
            "D3    8.3\n",
            "D4    8.5\n",
            "Name: CGPA, dtype: float64\n",
            "\n",
            "Lowest CGPA per Department:\n",
            "Dept_id\n",
            "D1    7.5\n",
            "D2    9.5\n",
            "D3    8.3\n",
            "D4    8.1\n",
            "Name: CGPA, dtype: float64\n"
          ]
        }
      ]
    },
    {
      "cell_type": "code",
      "source": [
        "# 9. Use loc method to extract specific rows from Dept table\n",
        "selected_rows_dept = dept_df.loc[[1, 3]]\n",
        "\n",
        "print(\"\\nSelected Rows from Department Table:\")\n",
        "print(selected_rows_dept)"
      ],
      "metadata": {
        "colab": {
          "base_uri": "https://localhost:8080/"
        },
        "id": "CuvyXa71BxNv",
        "outputId": "7bd88b4b-3b7e-447b-80e9-3b1039b79035"
      },
      "execution_count": null,
      "outputs": [
        {
          "output_type": "stream",
          "name": "stdout",
          "text": [
            "\n",
            "Selected Rows from Department Table:\n",
            "  Dept_id dept_name       Dloc   D_Hod\n",
            "1      D2      Mech        Goa  Chadra\n",
            "3      D5       ECE  Bangalore  Mourya\n"
          ]
        }
      ]
    },
    {
      "cell_type": "code",
      "source": [
        "# 10. Reshape the dept table\n",
        "reshaped_dept_table = dept_df.pivot(index=\"dept_name\", columns=\"Dloc\", values=\"D_Hod\")\n",
        "\n",
        "print(\"\\nReshaped Department Table:\")\n",
        "print(reshaped_dept_table)"
      ],
      "metadata": {
        "colab": {
          "base_uri": "https://localhost:8080/"
        },
        "id": "7yt1j42xBxQp",
        "outputId": "93c312e4-1bd0-45b6-81d8-b5fff8e4d0cd"
      },
      "execution_count": null,
      "outputs": [
        {
          "output_type": "stream",
          "name": "stdout",
          "text": [
            "\n",
            "Reshaped Department Table:\n",
            "Dloc      Bangalore  Delhi     Goa Mathura\n",
            "dept_name                                 \n",
            "AI and ML       NaN  Surya     NaN     NaN\n",
            "CSE           Indra    NaN     NaN     NaN\n",
            "Civil           NaN    NaN     NaN  Harsha\n",
            "ECE          Mourya    NaN     NaN     NaN\n",
            "Mech            NaN    NaN  Chadra     NaN\n"
          ]
        }
      ]
    },
    {
      "cell_type": "code",
      "source": [],
      "metadata": {
        "id": "DDp98jJQBxTJ"
      },
      "execution_count": null,
      "outputs": []
    },
    {
      "cell_type": "code",
      "source": [],
      "metadata": {
        "id": "rMWqWXIsBxV8"
      },
      "execution_count": null,
      "outputs": []
    },
    {
      "cell_type": "code",
      "source": [],
      "metadata": {
        "id": "VnY-foeoBxYl"
      },
      "execution_count": null,
      "outputs": []
    },
    {
      "cell_type": "code",
      "source": [],
      "metadata": {
        "id": "dMuXgv3YFWOE"
      },
      "execution_count": null,
      "outputs": []
    },
    {
      "cell_type": "code",
      "source": [],
      "metadata": {
        "id": "Ldr3r5AMBxbE"
      },
      "execution_count": null,
      "outputs": []
    },
    {
      "cell_type": "code",
      "source": [],
      "metadata": {
        "id": "-le3ZjkeBxd0"
      },
      "execution_count": null,
      "outputs": []
    },
    {
      "cell_type": "code",
      "source": [],
      "metadata": {
        "id": "ri2BZUBmBxgA"
      },
      "execution_count": null,
      "outputs": []
    },
    {
      "cell_type": "code",
      "source": [],
      "metadata": {
        "id": "cGKMYlLUBxjT"
      },
      "execution_count": null,
      "outputs": []
    }
  ]
}